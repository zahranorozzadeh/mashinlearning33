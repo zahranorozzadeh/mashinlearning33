{
 "cells": [
  {
   "cell_type": "code",
   "execution_count": 10,
   "id": "67642b6b-f399-4adf-8822-24e285ba39b2",
   "metadata": {},
   "outputs": [],
   "source": [
    "import numpy as np\n",
    "import matplotlib.pyplot as plt\n",
    "import pandas as pd"
   ]
  },
  {
   "cell_type": "code",
   "execution_count": 11,
   "id": "ca094805-8e35-4ba6-bb6f-db114eb78047",
   "metadata": {},
   "outputs": [],
   "source": [
    "#banana width ~4\n",
    "#banana lenght ~8\n",
    "#apple width ~6\n",
    "#apple lenght ~6\n",
    "\n",
    "#banana=0\n",
    "#apple=1\n",
    "\n",
    "N = 1000\n",
    "std =0.4 \n",
    "bananas_width = np.random.normal(4,std,N)\n",
    "bananas_lenght = np.random.normal(8,std,N)\n",
    "\n",
    "apples_width = np.random.normal(6,std,N)\n",
    "apples_lenght = np.random.normal(6,std,N)\n",
    "\n",
    "width = np.concatenate((bananas_width,apples_width))\n",
    "length = np.concatenate((bananas_lenght,apples_lenght))\n",
    "\n",
    "X = np.array([width,length]).T\n",
    "\n",
    "bananas_label = np.zeros(N, dtype='int')\n",
    "apples_label = np.ones(N, dtype='int')\n",
    "Y = np.concatenate((bananas_label,apples_label))"
   ]
  },
  {
   "cell_type": "code",
   "execution_count": 12,
   "id": "02a7ecfc-5bed-4558-859d-a07b78d6fc4a",
   "metadata": {},
   "outputs": [
    {
     "data": {
      "text/plain": [
       "array([0, 0, 0, ..., 1, 1, 1])"
      ]
     },
     "execution_count": 12,
     "metadata": {},
     "output_type": "execute_result"
    }
   ],
   "source": [
    "Y"
   ]
  },
  {
   "cell_type": "code",
   "execution_count": 13,
   "id": "92d726c0-3911-479c-824c-52ab49261b3a",
   "metadata": {},
   "outputs": [
    {
     "data": {
      "text/plain": [
       "array([0, 1])"
      ]
     },
     "execution_count": 13,
     "metadata": {},
     "output_type": "execute_result"
    }
   ],
   "source": [
    "np.unique(Y)"
   ]
  },
  {
   "cell_type": "code",
   "execution_count": 14,
   "id": "c95cbfd6-2008-43c8-b3d4-565723c908e8",
   "metadata": {},
   "outputs": [
    {
     "data": {
      "text/plain": [
       "Text(0, 0.5, 'length')"
      ]
     },
     "execution_count": 14,
     "metadata": {},
     "output_type": "execute_result"
    },
    {
     "data": {
      "image/png": "[encoded data removed]",
      "text/plain": [
       "<Figure size 432x288 with 1 Axes>"
      ]
     },
     "metadata": {
      "needs_background": "light"
     },
     "output_type": "display_data"
    }
   ],
   "source": [
    "plt.scatter(X[0:N,0],X[0:N,1], c='orange')\n",
    "plt.scatter(X[N: ,0],X[N: ,1], c='red')\n",
    "\n",
    "plt.xlabel('width')\n",
    "plt.ylabel('length')"
   ]
  },
  {
   "cell_type": "code",
   "execution_count": 15,
   "id": "1caca67b-5c2b-45a4-b86c-b310660a79e3",
   "metadata": {},
   "outputs": [],
   "source": [
    "class KNearestNeighbors:\n",
    "    def __init__(self,k):\n",
    "        self.k = k\n",
    "    #train\n",
    "    def fit(self,X_train,y_train):\n",
    "        self.X_train = X_train\n",
    "        self.y_train = y_train\n",
    "        self.number_classes= len(np.unique(y_train))\n",
    "        \n",
    "    def nearNeighbors(self,x_test):\n",
    "        distance =np.sqrt(np.sum((x_test- self.X_train)**2 , axis = 1))\n",
    "        near_neighbors = np.argsort(distance)[0:self.k]\n",
    "        return near_neighbors\n",
    "    #test\n",
    "    def predict(self,x_test):\n",
    "          near_neighbors = self.nearNeighbors(x_test)\n",
    "#         print(near_neighbors)\n",
    "#         print(self.y_train[near_neighbors])\n",
    "#         print(np.bincount(self.y_train[near_neighbors]))\n",
    "          y= np.argmax(np.bincount(self.y_train[near_neighbors]))\n",
    "          return y"
   ]
  },
  {
   "cell_type": "code",
   "execution_count": 16,
   "id": "cfde918f-686c-49a7-b283-0b100953dcae",
   "metadata": {},
   "outputs": [
    {
     "name": "stdout",
     "output_type": "stream",
     "text": [
      "0\n"
     ]
    }
   ],
   "source": [
    "knn = KNearestNeighbors(k=5)\n",
    "knn.fit(X,Y)\n",
    "mive_jadid = np.array([4.7,6.8])\n",
    "y_pred= knn.predict(mive_jadid)\n",
    "print(y_pred )\n"
   ]
  },
  {
   "cell_type": "code",
   "execution_count": 17,
   "id": "917791e9-2342-4308-a7fa-66b3a8aad5d3",
   "metadata": {},
   "outputs": [],
   "source": [
    "fruits = {0:'موز',\n",
    "         1:'سیب'\n",
    "         }"
   ]
  },
  {
   "cell_type": "code",
   "execution_count": 18,
   "id": "29b1ca67-3e9e-4457-86e0-e730cc045285",
   "metadata": {},
   "outputs": [],
   "source": [
    "# print(fruits[y_pred])"
   ]
  },
  {
   "cell_type": "code",
   "execution_count": null,
   "id": "d8424303-2b4f-422a-8466-551e42cf78cc",
   "metadata": {},
   "outputs": [],
   "source": []
  },
  {
   "cell_type": "code",
   "execution_count": null,
   "id": "5262ed4f-50e3-422f-b710-e9411446c337",
   "metadata": {},
   "outputs": [],
   "source": []
  }
 ],
 "metadata": {
  "kernelspec": {
   "display_name": "Python 3 (ipykernel)",
   "language": "python",
   "name": "python3"
  },
  "language_info": {
   "codemirror_mode": {
    "name": "ipython",
    "version": 3
   },
   "file_extension": ".py",
   "mimetype": "text/x-python",
   "name": "python",
   "nbconvert_exporter": "python",
   "pygments_lexer": "ipython3",
   "version": "3.7.9"
  }
 },
 "nbformat": 4,
 "nbformat_minor": 5
}
